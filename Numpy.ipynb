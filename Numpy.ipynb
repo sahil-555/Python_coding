{
 "cells": [
  {
   "cell_type": "code",
   "execution_count": 1,
   "id": "803b91e7",
   "metadata": {},
   "outputs": [],
   "source": [
    "import numpy as np"
   ]
  },
  {
   "cell_type": "markdown",
   "id": "f8456115",
   "metadata": {},
   "source": [
    "# 1D array"
   ]
  },
  {
   "cell_type": "code",
   "execution_count": 3,
   "id": "9899f082",
   "metadata": {},
   "outputs": [
    {
     "name": "stdout",
     "output_type": "stream",
     "text": [
      "[1 2 3 4 5]\n"
     ]
    }
   ],
   "source": [
    "print(arr1)"
   ]
  },
  {
   "cell_type": "code",
   "execution_count": 2,
   "id": "49c06f77",
   "metadata": {},
   "outputs": [],
   "source": [
    "arr1=np.array([1,2,3,4,5])"
   ]
  },
  {
   "cell_type": "code",
   "execution_count": 4,
   "id": "5b96975d",
   "metadata": {},
   "outputs": [
    {
     "data": {
      "text/plain": [
       "numpy.ndarray"
      ]
     },
     "execution_count": 4,
     "metadata": {},
     "output_type": "execute_result"
    }
   ],
   "source": [
    "type(arr1)"
   ]
  },
  {
   "cell_type": "code",
   "execution_count": 7,
   "id": "14dee77f",
   "metadata": {},
   "outputs": [
    {
     "name": "stdout",
     "output_type": "stream",
     "text": [
      "the first element 1\n",
      "the last element 5\n"
     ]
    }
   ],
   "source": [
    "print(\"the first element\",arr1[0])\n",
    "print(\"the last element\",arr1[-1])"
   ]
  },
  {
   "cell_type": "code",
   "execution_count": 8,
   "id": "143c3edb",
   "metadata": {},
   "outputs": [
    {
     "data": {
      "text/plain": [
       "array([1, 2, 3])"
      ]
     },
     "execution_count": 8,
     "metadata": {},
     "output_type": "execute_result"
    }
   ],
   "source": [
    "arr1[0:3:1]"
   ]
  },
  {
   "cell_type": "code",
   "execution_count": 9,
   "id": "538ab975",
   "metadata": {},
   "outputs": [
    {
     "data": {
      "text/plain": [
       "array([2, 4])"
      ]
     },
     "execution_count": 9,
     "metadata": {},
     "output_type": "execute_result"
    }
   ],
   "source": [
    "arr1[1:5:2]"
   ]
  },
  {
   "cell_type": "markdown",
   "id": "44d9945d",
   "metadata": {},
   "source": [
    "# 2D array"
   ]
  },
  {
   "cell_type": "code",
   "execution_count": 10,
   "id": "f0587a4b",
   "metadata": {},
   "outputs": [],
   "source": [
    "arr2=np.array([[1,2,3],[4,5,6],[7,8,9]])"
   ]
  },
  {
   "cell_type": "code",
   "execution_count": 12,
   "id": "6909bcc3",
   "metadata": {},
   "outputs": [
    {
     "name": "stdout",
     "output_type": "stream",
     "text": [
      "[[1 2 3]\n",
      " [4 5 6]\n",
      " [7 8 9]]\n"
     ]
    }
   ],
   "source": [
    "print(arr2)"
   ]
  },
  {
   "cell_type": "code",
   "execution_count": 13,
   "id": "d7b2b64f",
   "metadata": {},
   "outputs": [
    {
     "data": {
      "text/plain": [
       "2"
      ]
     },
     "execution_count": 13,
     "metadata": {},
     "output_type": "execute_result"
    }
   ],
   "source": [
    "arr2.ndim #dimention"
   ]
  },
  {
   "cell_type": "code",
   "execution_count": 14,
   "id": "2dba28f4",
   "metadata": {},
   "outputs": [
    {
     "data": {
      "text/plain": [
       "(3, 3)"
      ]
     },
     "execution_count": 14,
     "metadata": {},
     "output_type": "execute_result"
    }
   ],
   "source": [
    "arr2.shape #no of rows and columns"
   ]
  },
  {
   "cell_type": "code",
   "execution_count": 15,
   "id": "16aceb5f",
   "metadata": {},
   "outputs": [
    {
     "data": {
      "text/plain": [
       "9"
      ]
     },
     "execution_count": 15,
     "metadata": {},
     "output_type": "execute_result"
    }
   ],
   "source": [
    "arr2.size #n*m #no of elemts"
   ]
  },
  {
   "cell_type": "markdown",
   "id": "b7d34c8d",
   "metadata": {},
   "source": [
    "# Null Matrix/zero matrix"
   ]
  },
  {
   "cell_type": "code",
   "execution_count": 16,
   "id": "dc2541a4",
   "metadata": {},
   "outputs": [],
   "source": [
    "#3*3 --> all elemts as 0\n",
    "#np.arr([[0,0,0],[0,0,0],[0,0,0]])"
   ]
  },
  {
   "cell_type": "code",
   "execution_count": 17,
   "id": "9f80f855",
   "metadata": {},
   "outputs": [],
   "source": [
    "zero_array=np.zeros((5,5),dtype=int) #bydefault all elemts data types is float"
   ]
  },
  {
   "cell_type": "code",
   "execution_count": 18,
   "id": "3f261bb6",
   "metadata": {},
   "outputs": [
    {
     "name": "stdout",
     "output_type": "stream",
     "text": [
      "[[0 0 0 0 0]\n",
      " [0 0 0 0 0]\n",
      " [0 0 0 0 0]\n",
      " [0 0 0 0 0]\n",
      " [0 0 0 0 0]]\n"
     ]
    }
   ],
   "source": [
    "print(zero_array)"
   ]
  },
  {
   "cell_type": "markdown",
   "id": "36e0e9ee",
   "metadata": {},
   "source": [
    "# Ones matrix"
   ]
  },
  {
   "cell_type": "code",
   "execution_count": 19,
   "id": "fbbf664a",
   "metadata": {},
   "outputs": [
    {
     "name": "stdout",
     "output_type": "stream",
     "text": [
      "[[1 1 1 1 1]\n",
      " [1 1 1 1 1]\n",
      " [1 1 1 1 1]\n",
      " [1 1 1 1 1]\n",
      " [1 1 1 1 1]]\n"
     ]
    }
   ],
   "source": [
    "ones_array=np.ones((5,5),dtype=int)\n",
    "print(ones_array)"
   ]
  },
  {
   "cell_type": "code",
   "execution_count": 20,
   "id": "fceda9ba",
   "metadata": {},
   "outputs": [
    {
     "name": "stdout",
     "output_type": "stream",
     "text": [
      "[[1. 1. 1. 1. 1.]\n",
      " [1. 1. 1. 1. 1.]\n",
      " [1. 1. 1. 1. 1.]\n",
      " [1. 1. 1. 1. 1.]\n",
      " [1. 1. 1. 1. 1.]\n",
      " [1. 1. 1. 1. 1.]\n",
      " [1. 1. 1. 1. 1.]]\n"
     ]
    }
   ],
   "source": [
    "ones_array=np.ones((7,5))\n",
    "print(ones_array)"
   ]
  },
  {
   "cell_type": "markdown",
   "id": "3abfe736",
   "metadata": {},
   "source": [
    "# Full Matrix"
   ]
  },
  {
   "cell_type": "code",
   "execution_count": 24,
   "id": "258b855d",
   "metadata": {},
   "outputs": [
    {
     "name": "stdout",
     "output_type": "stream",
     "text": [
      "[[7 7 7 7 7]\n",
      " [7 7 7 7 7]\n",
      " [7 7 7 7 7]]\n"
     ]
    }
   ],
   "source": [
    "full_matrix=np.full((3,5),fill_value=7)\n",
    "print(full_matrix)"
   ]
  },
  {
   "cell_type": "code",
   "execution_count": 26,
   "id": "cfabdcd2",
   "metadata": {},
   "outputs": [
    {
     "name": "stdout",
     "output_type": "stream",
     "text": [
      "[['S' 'S' 'S' 'S' 'S']\n",
      " ['S' 'S' 'S' 'S' 'S']\n",
      " ['S' 'S' 'S' 'S' 'S']\n",
      " ['S' 'S' 'S' 'S' 'S']\n",
      " ['S' 'S' 'S' 'S' 'S']]\n"
     ]
    }
   ],
   "source": [
    "full_matrix=np.full((5,5),fill_value=\"S\")\n",
    "print(full_matrix)"
   ]
  },
  {
   "cell_type": "markdown",
   "id": "0722b8b5",
   "metadata": {},
   "source": [
    "# Identity Matrix"
   ]
  },
  {
   "cell_type": "code",
   "execution_count": 27,
   "id": "151223ec",
   "metadata": {},
   "outputs": [],
   "source": [
    "#diagonal elents as 1 #it is always square matrix[rows=colums]"
   ]
  },
  {
   "cell_type": "code",
   "execution_count": 28,
   "id": "177ea928",
   "metadata": {},
   "outputs": [
    {
     "data": {
      "text/plain": [
       "array([[1, 0, 0, 0, 0, 0],\n",
       "       [0, 1, 0, 0, 0, 0],\n",
       "       [0, 0, 1, 0, 0, 0],\n",
       "       [0, 0, 0, 1, 0, 0],\n",
       "       [0, 0, 0, 0, 1, 0],\n",
       "       [0, 0, 0, 0, 0, 1]])"
      ]
     },
     "execution_count": 28,
     "metadata": {},
     "output_type": "execute_result"
    }
   ],
   "source": [
    "np.eye(6,dtype=int)"
   ]
  },
  {
   "cell_type": "markdown",
   "id": "020810b9",
   "metadata": {},
   "source": [
    "# arange function"
   ]
  },
  {
   "cell_type": "code",
   "execution_count": null,
   "id": "5f628d0f",
   "metadata": {},
   "outputs": [],
   "source": [
    "range(0,10)-->[0,1,2,3,4,5,6,7,8,9]\n",
    "range(0,10,2)-->[0,2,4,6,8]"
   ]
  },
  {
   "cell_type": "code",
   "execution_count": 31,
   "id": "af51e31c",
   "metadata": {},
   "outputs": [
    {
     "data": {
      "text/plain": [
       "array([0, 1, 2, 3, 4, 5, 6, 7, 8, 9])"
      ]
     },
     "execution_count": 31,
     "metadata": {},
     "output_type": "execute_result"
    }
   ],
   "source": [
    "np.arange(0,10)"
   ]
  },
  {
   "cell_type": "markdown",
   "id": "6d5d63be",
   "metadata": {},
   "source": [
    "# Reshape "
   ]
  },
  {
   "cell_type": "code",
   "execution_count": 33,
   "id": "529aa7d6",
   "metadata": {},
   "outputs": [
    {
     "name": "stdout",
     "output_type": "stream",
     "text": [
      "[0 1 2 3 4 5 6 7 8 9]\n"
     ]
    }
   ],
   "source": [
    "arr=np.arange(0,10)\n",
    "print(arr)"
   ]
  },
  {
   "cell_type": "code",
   "execution_count": 36,
   "id": "37c2988a",
   "metadata": {},
   "outputs": [
    {
     "data": {
      "text/plain": [
       "10"
      ]
     },
     "execution_count": 36,
     "metadata": {},
     "output_type": "execute_result"
    }
   ],
   "source": [
    "arr.size"
   ]
  },
  {
   "cell_type": "code",
   "execution_count": 37,
   "id": "c8dd7a55",
   "metadata": {},
   "outputs": [
    {
     "data": {
      "text/plain": [
       "array([[0, 1, 2, 3, 4],\n",
       "       [5, 6, 7, 8, 9]])"
      ]
     },
     "execution_count": 37,
     "metadata": {},
     "output_type": "execute_result"
    }
   ],
   "source": [
    "reshaped_arr=arr.reshape(2,5)\n",
    "reshaped_arr"
   ]
  },
  {
   "cell_type": "code",
   "execution_count": 38,
   "id": "10b2b6bc",
   "metadata": {},
   "outputs": [
    {
     "ename": "ValueError",
     "evalue": "cannot reshape array of size 10 into shape (2,7)",
     "output_type": "error",
     "traceback": [
      "\u001b[0;31m---------------------------------------------------------------------------\u001b[0m",
      "\u001b[0;31mValueError\u001b[0m                                Traceback (most recent call last)",
      "Cell \u001b[0;32mIn[38], line 1\u001b[0m\n\u001b[0;32m----> 1\u001b[0m reshaped_arr2\u001b[38;5;241m=\u001b[39marr\u001b[38;5;241m.\u001b[39mreshape(\u001b[38;5;241m2\u001b[39m,\u001b[38;5;241m7\u001b[39m)\n\u001b[1;32m      2\u001b[0m reshaped_arr2\n",
      "\u001b[0;31mValueError\u001b[0m: cannot reshape array of size 10 into shape (2,7)"
     ]
    }
   ],
   "source": [
    "reshaped_arr2=arr.reshape(2,7) #cannot reshape array of size 10 into shape (2,7)\n",
    "reshaped_arr2"
   ]
  },
  {
   "cell_type": "markdown",
   "id": "3bc6cd78",
   "metadata": {},
   "source": [
    "# Transpose Matrix"
   ]
  },
  {
   "cell_type": "code",
   "execution_count": 47,
   "id": "834bed8d",
   "metadata": {},
   "outputs": [
    {
     "name": "stdout",
     "output_type": "stream",
     "text": [
      "[[ 1  2  4]\n",
      " [ 5  0  8]\n",
      " [ 8  0 15]]\n",
      "(3, 3)\n"
     ]
    }
   ],
   "source": [
    "arr=np.array([[1,2,4],[5,0,8],[8,0,15]])\n",
    "print(arr)\n",
    "print(arr.shape)"
   ]
  },
  {
   "cell_type": "code",
   "execution_count": 48,
   "id": "feba8aba",
   "metadata": {},
   "outputs": [],
   "source": [
    "transposed_array=np.transpose(arr)"
   ]
  },
  {
   "cell_type": "code",
   "execution_count": 49,
   "id": "14893f68",
   "metadata": {},
   "outputs": [
    {
     "name": "stdout",
     "output_type": "stream",
     "text": [
      "[[ 1  5  8]\n",
      " [ 2  0  0]\n",
      " [ 4  8 15]]\n",
      "(3, 3)\n"
     ]
    }
   ],
   "source": [
    "print(transposed_array)\n",
    "print(transposed_array.shape)"
   ]
  },
  {
   "cell_type": "markdown",
   "id": "3992ffbc",
   "metadata": {},
   "source": [
    "# Mathematical Operations"
   ]
  },
  {
   "cell_type": "code",
   "execution_count": 103,
   "id": "48dc6061",
   "metadata": {},
   "outputs": [],
   "source": [
    "x=np.array([[1,2,3],[6,7,9],[3,5,7]])\n",
    "y=np.array([[8,9,7],[1,5,7],[5,6,3]])"
   ]
  },
  {
   "cell_type": "code",
   "execution_count": 104,
   "id": "9c68bc26",
   "metadata": {},
   "outputs": [
    {
     "data": {
      "text/plain": [
       "array([[ 9, 11, 10],\n",
       "       [ 7, 12, 16],\n",
       "       [ 8, 11, 10]])"
      ]
     },
     "execution_count": 104,
     "metadata": {},
     "output_type": "execute_result"
    }
   ],
   "source": [
    "x+y"
   ]
  },
  {
   "cell_type": "code",
   "execution_count": 105,
   "id": "2925f611",
   "metadata": {},
   "outputs": [
    {
     "data": {
      "text/plain": [
       "array([[ 9, 11, 10],\n",
       "       [ 7, 12, 16],\n",
       "       [ 8, 11, 10]])"
      ]
     },
     "execution_count": 105,
     "metadata": {},
     "output_type": "execute_result"
    }
   ],
   "source": [
    "np.add(x,y)"
   ]
  },
  {
   "cell_type": "code",
   "execution_count": 106,
   "id": "72c552be",
   "metadata": {},
   "outputs": [
    {
     "data": {
      "text/plain": [
       "array([[-7, -7, -4],\n",
       "       [ 5,  2,  2],\n",
       "       [-2, -1,  4]])"
      ]
     },
     "execution_count": 106,
     "metadata": {},
     "output_type": "execute_result"
    }
   ],
   "source": [
    "x-y"
   ]
  },
  {
   "cell_type": "code",
   "execution_count": 107,
   "id": "bee4a17f",
   "metadata": {},
   "outputs": [
    {
     "data": {
      "text/plain": [
       "array([[-7, -7, -4],\n",
       "       [ 5,  2,  2],\n",
       "       [-2, -1,  4]])"
      ]
     },
     "execution_count": 107,
     "metadata": {},
     "output_type": "execute_result"
    }
   ],
   "source": [
    "np.subtract(x,y)"
   ]
  },
  {
   "cell_type": "code",
   "execution_count": 108,
   "id": "b3f19c4e",
   "metadata": {},
   "outputs": [
    {
     "data": {
      "text/plain": [
       "array([[ 8, 18, 21],\n",
       "       [ 6, 35, 63],\n",
       "       [15, 30, 21]])"
      ]
     },
     "execution_count": 108,
     "metadata": {},
     "output_type": "execute_result"
    }
   ],
   "source": [
    "np.multiply(x,y)"
   ]
  },
  {
   "cell_type": "code",
   "execution_count": 109,
   "id": "efa7dc16",
   "metadata": {},
   "outputs": [
    {
     "data": {
      "text/plain": [
       "array([[0.12, 0.22, 0.43],\n",
       "       [6.  , 1.4 , 1.29],\n",
       "       [0.6 , 0.83, 2.33]])"
      ]
     },
     "execution_count": 109,
     "metadata": {},
     "output_type": "execute_result"
    }
   ],
   "source": [
    "np.divide(x,y)\n",
    "np.round(np.divide(x,y),2)"
   ]
  },
  {
   "cell_type": "code",
   "execution_count": 112,
   "id": "8463cc33",
   "metadata": {},
   "outputs": [
    {
     "data": {
      "text/plain": [
       "array([[ 8, 18, 21],\n",
       "       [ 6, 35, 63],\n",
       "       [15, 30, 21]])"
      ]
     },
     "execution_count": 112,
     "metadata": {},
     "output_type": "execute_result"
    }
   ],
   "source": [
    "# Element-wise multiplication\n",
    "x*y"
   ]
  },
  {
   "cell_type": "code",
   "execution_count": 113,
   "id": "f2b5914d",
   "metadata": {},
   "outputs": [
    {
     "data": {
      "text/plain": [
       "array([[ 25,  37,  30],\n",
       "       [100, 143, 118],\n",
       "       [ 64,  94,  77]])"
      ]
     },
     "execution_count": 113,
     "metadata": {},
     "output_type": "execute_result"
    }
   ],
   "source": [
    "#Matrix multiplication \n",
    "x@y"
   ]
  },
  {
   "cell_type": "code",
   "execution_count": 111,
   "id": "ba342b6f",
   "metadata": {},
   "outputs": [
    {
     "data": {
      "text/plain": [
       "array([[ 25,  37,  30],\n",
       "       [100, 143, 118],\n",
       "       [ 64,  94,  77]])"
      ]
     },
     "execution_count": 111,
     "metadata": {},
     "output_type": "execute_result"
    }
   ],
   "source": [
    "np.matmul(x,y)"
   ]
  },
  {
   "cell_type": "code",
   "execution_count": 64,
   "id": "a31353a3",
   "metadata": {},
   "outputs": [],
   "source": [
    "#quiz\n",
    "data=np.array([[1,2,3],\n",
    "              [2,3,5],\n",
    "              [4,5,8]])"
   ]
  },
  {
   "cell_type": "code",
   "execution_count": 65,
   "id": "7dd030d5",
   "metadata": {},
   "outputs": [
    {
     "data": {
      "text/plain": [
       "array([2, 3, 5])"
      ]
     },
     "execution_count": 65,
     "metadata": {},
     "output_type": "execute_result"
    }
   ],
   "source": [
    "middle_col=data[:,1]\n",
    "middle_col"
   ]
  },
  {
   "cell_type": "raw",
   "id": "4e3508e1",
   "metadata": {},
   "source": [
    "# Quiz:\n",
    "# You are given a positive integer n. Implement a Python function fence_matrix(n) \n",
    "# that generates a \"fence matrix\" of size n x n. In this fence matrix, all the boundary \n",
    "# elements (elements on the perimeter) are set to 1, while all the inner elements are \n",
    "# set to 0.\n",
    "\n",
    "n=3\n",
    "\n",
    "[[ 1 1 1],\n",
    " [ 1 0 1],\n",
    " [ 1 1 1]]"
   ]
  },
  {
   "cell_type": "code",
   "execution_count": 79,
   "id": "4480eb23",
   "metadata": {},
   "outputs": [
    {
     "name": "stdout",
     "output_type": "stream",
     "text": [
      "5\n",
      "[[1 1 1 1 1]\n",
      " [1 0 0 0 1]\n",
      " [1 0 0 0 1]\n",
      " [1 0 0 0 1]\n",
      " [1 1 1 1 1]]\n"
     ]
    }
   ],
   "source": [
    "n=int(input())\n",
    "arr=np.zeros((n,n),dtype=int)\n",
    "arr[0]=1\n",
    "arr[-1]=1\n",
    "arr[:,0]=1\n",
    "arr[:,-1]=1\n",
    "print(arr)"
   ]
  },
  {
   "cell_type": "code",
   "execution_count": 78,
   "id": "cf305c8c",
   "metadata": {},
   "outputs": [
    {
     "name": "stdout",
     "output_type": "stream",
     "text": [
      "4\n",
      "[[1 1 1 1]\n",
      " [1 0 0 1]\n",
      " [1 0 0 1]\n",
      " [1 1 1 1]]\n"
     ]
    }
   ],
   "source": [
    "n=int(input())\n",
    "arr = np.ones((n,n),dtype=int) \n",
    "arr[1:-1,1:-1]=0 \n",
    "print(arr)"
   ]
  },
  {
   "cell_type": "markdown",
   "id": "492e0573",
   "metadata": {},
   "source": [
    "# Flatten array-2d to 1d"
   ]
  },
  {
   "cell_type": "code",
   "execution_count": 69,
   "id": "b8ea5089",
   "metadata": {},
   "outputs": [
    {
     "data": {
      "text/plain": [
       "array([[1, 2, 3],\n",
       "       [6, 7, 9],\n",
       "       [3, 5, 7]])"
      ]
     },
     "execution_count": 69,
     "metadata": {},
     "output_type": "execute_result"
    }
   ],
   "source": [
    "arr=np.array([[1,2,3],[6,7,9],[3,5,7]])\n",
    "arr"
   ]
  },
  {
   "cell_type": "code",
   "execution_count": 71,
   "id": "73b738a8",
   "metadata": {},
   "outputs": [
    {
     "data": {
      "text/plain": [
       "array([1, 2, 3, 6, 7, 9, 3, 5, 7])"
      ]
     },
     "execution_count": 71,
     "metadata": {},
     "output_type": "execute_result"
    }
   ],
   "source": [
    "flattened_array=arr.flatten()\n",
    "flattened_array"
   ]
  },
  {
   "cell_type": "markdown",
   "id": "95a46d67",
   "metadata": {},
   "source": [
    "# stacking"
   ]
  },
  {
   "cell_type": "code",
   "execution_count": 72,
   "id": "27acd217",
   "metadata": {},
   "outputs": [
    {
     "data": {
      "text/plain": [
       "array([[1, 2, 3],\n",
       "       [6, 7, 9],\n",
       "       [3, 5, 7]])"
      ]
     },
     "execution_count": 72,
     "metadata": {},
     "output_type": "execute_result"
    }
   ],
   "source": [
    "x"
   ]
  },
  {
   "cell_type": "code",
   "execution_count": 73,
   "id": "62081de0",
   "metadata": {},
   "outputs": [
    {
     "data": {
      "text/plain": [
       "array([[8, 9, 0],\n",
       "       [1, 5, 7],\n",
       "       [5, 6, 3]])"
      ]
     },
     "execution_count": 73,
     "metadata": {},
     "output_type": "execute_result"
    }
   ],
   "source": [
    "y"
   ]
  },
  {
   "cell_type": "code",
   "execution_count": 76,
   "id": "e19daa46",
   "metadata": {},
   "outputs": [
    {
     "data": {
      "text/plain": [
       "array([[1, 2, 3],\n",
       "       [6, 7, 9],\n",
       "       [3, 5, 7],\n",
       "       [8, 9, 0],\n",
       "       [1, 5, 7],\n",
       "       [5, 6, 3]])"
      ]
     },
     "execution_count": 76,
     "metadata": {},
     "output_type": "execute_result"
    }
   ],
   "source": [
    "vertical_stack=np.vstack((x,y)) #top &bottom #no of cols shoul be same\n",
    "vertical_stack"
   ]
  },
  {
   "cell_type": "code",
   "execution_count": 77,
   "id": "89f22d1b",
   "metadata": {},
   "outputs": [
    {
     "data": {
      "text/plain": [
       "array([[1, 2, 3, 8, 9, 0],\n",
       "       [6, 7, 9, 1, 5, 7],\n",
       "       [3, 5, 7, 5, 6, 3]])"
      ]
     },
     "execution_count": 77,
     "metadata": {},
     "output_type": "execute_result"
    }
   ],
   "source": [
    "horizontal_stack=np.hstack((x,y)) #side by side #no of rows should be same\n",
    "horizontal_stack"
   ]
  },
  {
   "cell_type": "raw",
   "id": "e3c39f00",
   "metadata": {},
   "source": [
    "### Ques: Write a NumPy program to create three 3x3 identity matrix and stack \n",
    "\n",
    "*   List item\n",
    "*   List item\n",
    "\n",
    "it vertically and horizontally."
   ]
  },
  {
   "cell_type": "code",
   "execution_count": 100,
   "id": "2b57d237",
   "metadata": {},
   "outputs": [
    {
     "name": "stdout",
     "output_type": "stream",
     "text": [
      "[[1 0 0]\n",
      " [0 1 0]\n",
      " [0 0 1]]\n",
      "-------------------\n",
      "[[1 0 0]\n",
      " [0 1 0]\n",
      " [0 0 1]\n",
      " [1 0 0]\n",
      " [0 1 0]\n",
      " [0 0 1]\n",
      " [1 0 0]\n",
      " [0 1 0]\n",
      " [0 0 1]]\n",
      "-------------------\n",
      "[[1 0 0 1 0 0 1 0 0]\n",
      " [0 1 0 0 1 0 0 1 0]\n",
      " [0 0 1 0 0 1 0 0 1]]\n"
     ]
    }
   ],
   "source": [
    "identity_matrix=np.eye(3,dtype=int)\n",
    "vertical_stacked=np.vstack((identity_matrix,identity_matrix,identity_matrix))\n",
    "horizontal_stacked=np.hstack((identity_matrix,identity_matrix,identity_matrix))\n",
    "print(identity_matrix)\n",
    "print(\"-------------------\")\n",
    "print(vertical_stacked)\n",
    "print(\"-------------------\")\n",
    "print(horizontal_stacked)"
   ]
  },
  {
   "cell_type": "code",
   "execution_count": 84,
   "id": "98e7d1ea",
   "metadata": {},
   "outputs": [
    {
     "data": {
      "text/plain": [
       "array([[1, 0, 0, 1, 0, 0],\n",
       "       [0, 1, 0, 0, 1, 0],\n",
       "       [0, 0, 1, 0, 0, 1]])"
      ]
     },
     "execution_count": 84,
     "metadata": {},
     "output_type": "execute_result"
    }
   ],
   "source": [
    "x = y = np.eye(3, dtype = int) \n",
    "np.vstack((x,y)) \n",
    "np.hstack((x,y))"
   ]
  },
  {
   "cell_type": "code",
   "execution_count": 99,
   "id": "31c144cb",
   "metadata": {},
   "outputs": [
    {
     "data": {
      "text/plain": [
       "array([[ 1,  5,  5,  8, 10],\n",
       "       [ 4,  8,  9,  5,  4],\n",
       "       [ 6,  7,  5,  2,  6],\n",
       "       [ 5,  6, 10,  4,  9],\n",
       "       [ 7,  1, 10,  6,  8]])"
      ]
     },
     "execution_count": 99,
     "metadata": {},
     "output_type": "execute_result"
    }
   ],
   "source": [
    "#Create a NumPy array of size 5x5 with random integers ranging from 1 to 10.\n",
    "array=np.random.randint(1,11,size=(5,5)) \n",
    "array"
   ]
  },
  {
   "cell_type": "code",
   "execution_count": 90,
   "id": "8c52b3f2",
   "metadata": {},
   "outputs": [
    {
     "data": {
      "text/plain": [
       "array([[0.52, 0.24, 0.26, 0.24, 0.98],\n",
       "       [0.11, 0.03, 0.46, 0.45, 0.62],\n",
       "       [0.3 , 0.48, 0.43, 0.12, 0.79],\n",
       "       [0.62, 0.34, 0.58, 0.95, 0.66],\n",
       "       [0.52, 0.23, 0.89, 0.34, 0.33]])"
      ]
     },
     "execution_count": 90,
     "metadata": {},
     "output_type": "execute_result"
    }
   ],
   "source": [
    "array=np.round(np.random.rand(5,5),2)\n",
    "array"
   ]
  },
  {
   "cell_type": "raw",
   "id": "6f6b24c5",
   "metadata": {},
   "source": [
    "Ques: Write a NumPy program to multiply two randomly generated arrays of the same size (4*4) element-by-element and then by matrix rule wise.\n"
   ]
  },
  {
   "cell_type": "code",
   "execution_count": 98,
   "id": "edec68b2",
   "metadata": {},
   "outputs": [
    {
     "name": "stdout",
     "output_type": "stream",
     "text": [
      "[[0.48793644 0.03064909 0.19349365 0.22868497]\n",
      " [0.51794434 0.04007633 0.69647022 0.07458562]\n",
      " [0.32539946 0.17632725 0.36222982 0.04778682]\n",
      " [0.3946762  0.08969594 0.26393181 0.42963403]]\n",
      "[[1.12756338 0.6145225  1.22945821 0.95466133]\n",
      " [1.27321804 1.03213926 1.69893091 0.99495034]\n",
      " [0.81763722 0.60542714 1.13542816 0.49801582]\n",
      " [1.42291481 1.02507875 1.83997621 1.0729674 ]]\n"
     ]
    }
   ],
   "source": [
    "arr1=np.random.rand(4,4)\n",
    "arr2=np.random.rand(4,4)\n",
    "res1=arr1*arr2\n",
    "res2=arr1@arr2\n",
    "print(res1)\n",
    "print(res2)"
   ]
  },
  {
   "cell_type": "code",
   "execution_count": 92,
   "id": "5c1d71dd",
   "metadata": {},
   "outputs": [],
   "source": [
    "#given an array, reverse the row\n",
    "data=np.array([[1,2,3],\n",
    "              [4,5,6],\n",
    "              [7,8,9]])"
   ]
  },
  {
   "cell_type": "code",
   "execution_count": 93,
   "id": "14a290ed",
   "metadata": {},
   "outputs": [
    {
     "data": {
      "text/plain": [
       "array([[7, 8, 9],\n",
       "       [4, 5, 6],\n",
       "       [1, 2, 3]])"
      ]
     },
     "execution_count": 93,
     "metadata": {},
     "output_type": "execute_result"
    }
   ],
   "source": [
    "np.flip(data,axis=0) #row wise flip"
   ]
  },
  {
   "cell_type": "code",
   "execution_count": 94,
   "id": "f8ddeff9",
   "metadata": {},
   "outputs": [
    {
     "data": {
      "text/plain": [
       "array([[3, 2, 1],\n",
       "       [6, 5, 4],\n",
       "       [9, 8, 7]])"
      ]
     },
     "execution_count": 94,
     "metadata": {},
     "output_type": "execute_result"
    }
   ],
   "source": [
    "np.flip(data,axis=1)#cloumn wise"
   ]
  },
  {
   "cell_type": "code",
   "execution_count": 96,
   "id": "8ea4eb17",
   "metadata": {},
   "outputs": [
    {
     "data": {
      "text/plain": [
       "array([[9, 8, 7],\n",
       "       [6, 5, 4],\n",
       "       [3, 2, 1]])"
      ]
     },
     "execution_count": 96,
     "metadata": {},
     "output_type": "execute_result"
    }
   ],
   "source": [
    "np.flip(data)#overall flip"
   ]
  },
  {
   "cell_type": "code",
   "execution_count": 97,
   "id": "f55ad6aa",
   "metadata": {},
   "outputs": [
    {
     "name": "stdout",
     "output_type": "stream",
     "text": [
      "Sum 15\n",
      "Max 5\n",
      "Min 1\n",
      "Mean 3.0\n",
      "Median 3.0\n"
     ]
    }
   ],
   "source": [
    "# Quiz: Given a NumPy array arr, calculate the mean and max of its elements.\n",
    "arr = np.array([1, 2, 3, 4, 5])\n",
    "print(\"Sum\",np.sum(arr))\n",
    "print(\"Max\",np.max(arr))\n",
    "print(\"Min\",np.min(arr))\n",
    "print(\"Mean\",np.mean(arr))\n",
    "print(\"Median\",np.median(arr))"
   ]
  },
  {
   "cell_type": "code",
   "execution_count": null,
   "id": "2b46d0da",
   "metadata": {},
   "outputs": [],
   "source": []
  }
 ],
 "metadata": {
  "kernelspec": {
   "display_name": "Python 3 (ipykernel)",
   "language": "python",
   "name": "python3"
  },
  "language_info": {
   "codemirror_mode": {
    "name": "ipython",
    "version": 3
   },
   "file_extension": ".py",
   "mimetype": "text/x-python",
   "name": "python",
   "nbconvert_exporter": "python",
   "pygments_lexer": "ipython3",
   "version": "3.11.5"
  }
 },
 "nbformat": 4,
 "nbformat_minor": 5
}
