{
 "cells": [
  {
   "cell_type": "markdown",
   "id": "0cf17502",
   "metadata": {},
   "source": [
    "# Lists\n",
    "lists are an ordered sequence of mixed data types\n",
    "list are writeen as comma separated elements with square brackets\n",
    "Lists are mutable"
   ]
  },
  {
   "cell_type": "code",
   "execution_count": 3,
   "id": "11526638",
   "metadata": {},
   "outputs": [
    {
     "data": {
      "text/plain": [
       "['india', 23, 6, 'mumbai']"
      ]
     },
     "execution_count": 3,
     "metadata": {},
     "output_type": "execute_result"
    }
   ],
   "source": [
    "#introduction\n",
    "L=[\"india\",23,6,\"mumbai\"]\n",
    "L"
   ]
  },
  {
   "cell_type": "code",
   "execution_count": 4,
   "id": "c1560df0",
   "metadata": {},
   "outputs": [
    {
     "data": {
      "text/plain": [
       "['chemistry', 30, 40, [12, 'navi mumbai'], 'china']"
      ]
     },
     "execution_count": 4,
     "metadata": {},
     "output_type": "execute_result"
    }
   ],
   "source": [
    "#Nested list\n",
    "L=[\"chemistry\",30,40,[12,\"navi mumbai\"],\"china\"]\n",
    "L"
   ]
  },
  {
   "cell_type": "code",
   "execution_count": 5,
   "id": "02fb1c63",
   "metadata": {},
   "outputs": [
    {
     "data": {
      "text/plain": [
       "[12, 'navi mumbai']"
      ]
     },
     "execution_count": 5,
     "metadata": {},
     "output_type": "execute_result"
    }
   ],
   "source": [
    "#indexing\n",
    "L[3]"
   ]
  },
  {
   "cell_type": "code",
   "execution_count": 6,
   "id": "d51c5cd9",
   "metadata": {},
   "outputs": [
    {
     "data": {
      "text/plain": [
       "'china'"
      ]
     },
     "execution_count": 6,
     "metadata": {},
     "output_type": "execute_result"
    }
   ],
   "source": [
    "L[-1]"
   ]
  },
  {
   "cell_type": "code",
   "execution_count": 9,
   "id": "44303bd6",
   "metadata": {},
   "outputs": [
    {
     "data": {
      "text/plain": [
       "'navi mumbai'"
      ]
     },
     "execution_count": 9,
     "metadata": {},
     "output_type": "execute_result"
    }
   ],
   "source": [
    "L[3][1]"
   ]
  },
  {
   "cell_type": "code",
   "execution_count": 10,
   "id": "715cd466",
   "metadata": {},
   "outputs": [
    {
     "data": {
      "text/plain": [
       "['chemistry', 30, 40]"
      ]
     },
     "execution_count": 10,
     "metadata": {},
     "output_type": "execute_result"
    }
   ],
   "source": [
    "#slicing\n",
    "L[0:3]"
   ]
  },
  {
   "cell_type": "code",
   "execution_count": 11,
   "id": "adf18b11",
   "metadata": {},
   "outputs": [
    {
     "data": {
      "text/plain": [
       "['physics', 30, 40, [12, 'navi mumbai'], 'china']"
      ]
     },
     "execution_count": 11,
     "metadata": {},
     "output_type": "execute_result"
    }
   ],
   "source": [
    "#mutable\n",
    "L[0]=\"physics\"\n",
    "L"
   ]
  },
  {
   "cell_type": "code",
   "execution_count": 13,
   "id": "694fc3b8",
   "metadata": {},
   "outputs": [
    {
     "name": "stdout",
     "output_type": "stream",
     "text": [
      "['physics', 30, 40, [12, 'navi mumbai'], 'china', 8, 9, 8, 9]\n"
     ]
    }
   ],
   "source": [
    "#extend(): Extend a list by adding elements at the end of the list.\n",
    "L.extend([8,9])\n",
    "print(L)"
   ]
  },
  {
   "cell_type": "code",
   "execution_count": 15,
   "id": "34e0214f",
   "metadata": {},
   "outputs": [
    {
     "data": {
      "text/plain": [
       "['physics', 30, 40, [12, 'navi mumbai'], 'china', 8, 9, 8, 9, [9, 10], [9, 10]]"
      ]
     },
     "execution_count": 15,
     "metadata": {},
     "output_type": "execute_result"
    }
   ],
   "source": [
    "#append(): Append an object to the end of a list. (exactlty the same way how you write)\n",
    "L.append([9,10])\n",
    "L"
   ]
  },
  {
   "cell_type": "code",
   "execution_count": 16,
   "id": "5b9f2179",
   "metadata": {},
   "outputs": [
    {
     "data": {
      "text/plain": [
       "['physics',\n",
       " 30,\n",
       " 40,\n",
       " [12, 'navi mumbai'],\n",
       " 'china',\n",
       " 8,\n",
       " 9,\n",
       " 8,\n",
       " 9,\n",
       " [9, 10],\n",
       " [9, 10],\n",
       " 'zzz']"
      ]
     },
     "execution_count": 16,
     "metadata": {},
     "output_type": "execute_result"
    }
   ],
   "source": [
    "L.append(\"zzz\")\n",
    "L"
   ]
  },
  {
   "cell_type": "code",
   "execution_count": 17,
   "id": "5baac3ef",
   "metadata": {},
   "outputs": [
    {
     "data": {
      "text/plain": [
       "'zzz'"
      ]
     },
     "execution_count": 17,
     "metadata": {},
     "output_type": "execute_result"
    }
   ],
   "source": [
    "#pop(index): Remove and return the item at index (default last)\n",
    "\n",
    "#remove(value): Remove the first occurrence of a value in the list\n",
    "\n",
    "L.pop()"
   ]
  },
  {
   "cell_type": "code",
   "execution_count": 22,
   "id": "6c0130e0",
   "metadata": {},
   "outputs": [
    {
     "data": {
      "text/plain": [
       "['physics', 30, 40, [12, 'navi mumbai'], 'china', 8, 9, 8, 9]"
      ]
     },
     "execution_count": 22,
     "metadata": {},
     "output_type": "execute_result"
    }
   ],
   "source": [
    "L.remove([9,10])\n",
    "L"
   ]
  },
  {
   "cell_type": "code",
   "execution_count": 24,
   "id": "e300228b",
   "metadata": {},
   "outputs": [
    {
     "data": {
      "text/plain": [
       "[6, 7, 20, 29, 67]"
      ]
     },
     "execution_count": 24,
     "metadata": {},
     "output_type": "execute_result"
    }
   ],
   "source": [
    "#sorting\n",
    "L=[20,67,29,7,6]\n",
    "L.sort()\n",
    "L"
   ]
  },
  {
   "cell_type": "code",
   "execution_count": 25,
   "id": "89679893",
   "metadata": {},
   "outputs": [
    {
     "data": {
      "text/plain": [
       "[67, 29, 20, 7, 6]"
      ]
     },
     "execution_count": 25,
     "metadata": {},
     "output_type": "execute_result"
    }
   ],
   "source": [
    "#descing order\n",
    "L.sort(reverse=True)\n",
    "L"
   ]
  },
  {
   "cell_type": "code",
   "execution_count": 26,
   "id": "6e043dd1",
   "metadata": {},
   "outputs": [
    {
     "name": "stdout",
     "output_type": "stream",
     "text": [
      "[]\n"
     ]
    }
   ],
   "source": [
    "word = ['1','2','3','4']\n",
    "word[ : ] = [ ] \n",
    "print(word)"
   ]
  },
  {
   "cell_type": "code",
   "execution_count": 27,
   "id": "2578a63c",
   "metadata": {},
   "outputs": [
    {
     "name": "stdout",
     "output_type": "stream",
     "text": [
      "['five', 'four', 'one', 'six', 'three', 'two']\n",
      "['one', 'two', 'three', 'four', 'five', 'six']\n"
     ]
    }
   ],
   "source": [
    "L = ['one','two','three', 'four', 'five', 'six']\n",
    "print(sorted(L))\n",
    "print (L)"
   ]
  },
  {
   "cell_type": "markdown",
   "id": "aefd006e",
   "metadata": {},
   "source": [
    "string input_str = 'Kumar_Ravi_003'\n",
    "\n",
    "\n",
    "input_str = sys.stdin.read()\n",
    "name = input_str.split('_')\n",
    "first_name = name[1]\n",
    "second_name = name[0]\n",
    "customer_code = name[2]"
   ]
  },
  {
   "cell_type": "markdown",
   "id": "bcba7ac5",
   "metadata": {},
   "source": [
    "# Tuples\n",
    "tuples re an ordered sequence of mixed data types\n",
    "tuples are writeen as comma separated elements with paranthesis ().\n",
    "tuples are immutable"
   ]
  },
  {
   "cell_type": "code",
   "execution_count": 28,
   "id": "f09738bb",
   "metadata": {},
   "outputs": [
    {
     "data": {
      "text/plain": [
       "('disco', 89, 90, 56, 'apple')"
      ]
     },
     "execution_count": 28,
     "metadata": {},
     "output_type": "execute_result"
    }
   ],
   "source": [
    "t=(\"disco\",89,90,56,\"apple\")\n",
    "t"
   ]
  },
  {
   "cell_type": "code",
   "execution_count": null,
   "id": "9d94a32f",
   "metadata": {},
   "outputs": [],
   "source": []
  }
 ],
 "metadata": {
  "kernelspec": {
   "display_name": "Python 3 (ipykernel)",
   "language": "python",
   "name": "python3"
  },
  "language_info": {
   "codemirror_mode": {
    "name": "ipython",
    "version": 3
   },
   "file_extension": ".py",
   "mimetype": "text/x-python",
   "name": "python",
   "nbconvert_exporter": "python",
   "pygments_lexer": "ipython3",
   "version": "3.11.5"
  }
 },
 "nbformat": 4,
 "nbformat_minor": 5
}
